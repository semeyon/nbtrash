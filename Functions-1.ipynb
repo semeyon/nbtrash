{
 "cells": [
  {
   "cell_type": "markdown",
   "metadata": {},
   "source": [
    "# Функции"
   ]
  },
  {
   "cell_type": "markdown",
   "metadata": {},
   "source": [
    "##Написать функцию, которой можно передавать аргументы либо списком/кортежем, либо по одному. Функция производит суммирование всех аргументов."
   ]
  },
  {
   "cell_type": "code",
   "execution_count": null,
   "metadata": {
    "collapsed": true
   },
   "outputs": [],
   "source": [
    "def f(*argv):\n",
    "    \"\"\"\n",
    "    >>> f(1, 2, 3)\n",
    "    6\n",
    "    >>> f([1, 2, 3])\n",
    "    6\n",
    "    >>> f((3, 5, 6))\n",
    "    14\n",
    "    >>> f(3, (5, 6))\n",
    "    14\n",
    "    >>> f(1, (2, (3, (4, (5, (6, (7, (8, (9, 10)))))))))\n",
    "    55\n",
    "    \"\"\"\n",
    "    result = 0\n",
    "    for n in argv:\n",
    "        if hasattr(n, \"__iter__\"):\n",
    "            result += f(*n)\n",
    "        else:\n",
    "            result += n\n",
    "    return result"
   ]
  },
  {
   "cell_type": "markdown",
   "metadata": {},
   "source": [
    "##Написать функцию-фабрику, которая будет возвращать функцию сложения с аргументом."
   ]
  },
  {
   "cell_type": "code",
   "execution_count": null,
   "metadata": {
    "collapsed": true
   },
   "outputs": [],
   "source": [
    "def addition_with_inner_func(a):\n",
    "    \"\"\" \n",
    "    >>> addition_with_inner_func(8)(2)\n",
    "    10\n",
    "    >>> addition_with_inner_func(0)(5)\n",
    "    5\n",
    "    >>> addition_with_inner_func(5)(4)\n",
    "    9\n",
    "    >>> addition_with_inner_func(-2)(2)\n",
    "    0\n",
    "    \"\"\"\n",
    "    def inner(b):\n",
    "        return a + b\n",
    "    return inner\n",
    "\n",
    "def addition_with_lambda(a):\n",
    "    \"\"\" \n",
    "    >>> addition_with_lambda(8)(2)\n",
    "    10\n",
    "    >>> addition_with_lambda(0)(5)\n",
    "    5\n",
    "    >>> addition_with_lambda(5)(4)\n",
    "    9\n",
    "    >>> addition_with_lambda(-2)(2)\n",
    "    0\n",
    "    \"\"\"\n",
    "    return lambda b: a + b"
   ]
  },
  {
   "cell_type": "markdown",
   "metadata": {},
   "source": [
    "##Написать фабрику, аналогичную п.2, но возвращающей список таких функций."
   ]
  },
  {
   "cell_type": "code",
   "execution_count": null,
   "metadata": {
    "collapsed": true
   },
   "outputs": [],
   "source": [
    "def addition_range(start, stop):\n",
    "    \"\"\"\n",
    "    >>> [addn(1) for addn in addition_range(0, 10)]\n",
    "    [1, 2, 3, 4, 5, 6, 7, 8, 9, 10, 11]\n",
    "    \"\"\"\n",
    "    return [addition_with_lambda(a) for a in range(start, stop + 1)]"
   ]
  },
  {
   "cell_type": "markdown",
   "metadata": {},
   "source": [
    "##Написать аналог map."
   ]
  },
  {
   "cell_type": "code",
   "execution_count": null,
   "metadata": {
    "collapsed": true
   },
   "outputs": [],
   "source": [
    "def mymap(funcs, args):\n",
    "    \"\"\"\n",
    "    >>> mymap([], [])\n",
    "    []\n",
    "    >>> mymap(addition_range(0, 2), [1, 2, 3])\n",
    "    [(1, 2, 3), (2, 3, 4), (3, 4, 5)]\n",
    "    >>> mymap(addition_with_lambda(2), [0, 1, 2])\n",
    "    [2, 3, 4]\n",
    "    \"\"\"\n",
    "    if isinstance(funcs, collections.Iterable):\n",
    "        return [tuple(func(arg) for arg in args) for func in funcs]\n",
    "    else:\n",
    "        return [funcs(arg) for arg in args]"
   ]
  }
 ],
 "metadata": {
  "kernelspec": {
   "display_name": "Python 2",
   "language": "python",
   "name": "python2"
  },
  "language_info": {
   "codemirror_mode": {
    "name": "ipython",
    "version": 2
   },
   "file_extension": ".py",
   "mimetype": "text/x-python",
   "name": "python",
   "nbconvert_exporter": "python",
   "pygments_lexer": "ipython2",
   "version": "2.7.10"
  }
 },
 "nbformat": 4,
 "nbformat_minor": 0
}
