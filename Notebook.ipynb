{
 "cells": [
  {
   "cell_type": "markdown",
   "metadata": {},
   "source": [
    "#Типы данных, основные конструкции и теория"
   ]
  },
  {
   "cell_type": "markdown",
   "metadata": {},
   "source": [
    "Пусть имеется объект некоторого класса:"
   ]
  },
  {
   "cell_type": "code",
   "execution_count": 14,
   "metadata": {
    "collapsed": false
   },
   "outputs": [],
   "source": [
    "class SomeClass:\n",
    "    \"\"\"Help-текст\"\"\"\n",
    "    def __init__(self):\n",
    "        self.objectvar = 9\n",
    "    def someFunc(self, a):\n",
    "        print a\n",
    "    classvar = 12\n",
    "x = SomeClass()\n"
   ]
  },
  {
   "cell_type": "markdown",
   "metadata": {},
   "source": [
    "1)Как получить список всех атрибутов объекта:"
   ]
  },
  {
   "cell_type": "code",
   "execution_count": 7,
   "metadata": {
    "collapsed": false
   },
   "outputs": [
    {
     "name": "stdout",
     "output_type": "stream",
     "text": [
      "Атрибуты объекта: ['__doc__', '__init__', '__module__', 'classvar', 'objectvar', 'someFunc']\n"
     ]
    }
   ],
   "source": [
    "print \"Атрибуты объекта: %s\" % dir(x)"
   ]
  },
  {
   "cell_type": "markdown",
   "metadata": {},
   "source": [
    "2) Как получить список всех публичных атрибутов объекта:"
   ]
  },
  {
   "cell_type": "code",
   "execution_count": 10,
   "metadata": {
    "collapsed": false
   },
   "outputs": [
    {
     "name": "stdout",
     "output_type": "stream",
     "text": [
      "Атрибуты объекта: ['classvar', 'objectvar', 'someFunc']\n"
     ]
    }
   ],
   "source": [
    "print \"Атрибуты объекта: %s\" % [atr for atr in dir(x) if not atr.startswith(\"_\")]"
   ]
  },
  {
   "cell_type": "markdown",
   "metadata": {},
   "source": [
    "3) Как получить список методов объекта:"
   ]
  },
  {
   "cell_type": "code",
   "execution_count": 11,
   "metadata": {
    "collapsed": false
   },
   "outputs": [
    {
     "name": "stdout",
     "output_type": "stream",
     "text": [
      " Методы объекта: ['__init__', 'someFunc']\n"
     ]
    }
   ],
   "source": [
    "print \" Методы объекта: %s\" % [f for f in dir(x) if callable(getattr(x, f))]"
   ]
  },
  {
   "cell_type": "markdown",
   "metadata": {},
   "source": [
    "4) В какой \"магической\" переменной хранится содержимое help?"
   ]
  },
  {
   "cell_type": "code",
   "execution_count": 15,
   "metadata": {
    "collapsed": false
   },
   "outputs": [
    {
     "name": "stdout",
     "output_type": "stream",
     "text": [
      "Help-текст\n"
     ]
    }
   ],
   "source": [
    "print SomeClass.__doc__"
   ]
  },
  {
   "cell_type": "markdown",
   "metadata": {},
   "source": [
    "5) Есть два кортежа, получить третий как конкатенацию первых двух:"
   ]
  },
  {
   "cell_type": "code",
   "execution_count": 16,
   "metadata": {
    "collapsed": false
   },
   "outputs": [
    {
     "name": "stdout",
     "output_type": "stream",
     "text": [
      "(1, 2, 3, 4, 5, 6, 7, 8)\n"
     ]
    }
   ],
   "source": [
    "a = (1, 2, 3, 4, 5)\n",
    "b = (6, 7, 8)\n",
    "c = a + b\n",
    "print c"
   ]
  },
  {
   "cell_type": "markdown",
   "metadata": {},
   "source": [
    "6) Есть два кортежа, получить третий как объединение уникальных элементов первых двух кортежей:"
   ]
  },
  {
   "cell_type": "code",
   "execution_count": 20,
   "metadata": {
    "collapsed": false
   },
   "outputs": [
    {
     "name": "stdout",
     "output_type": "stream",
     "text": [
      "(3, 4, 5, 6, 7, 8)\n",
      "(3, 4, 5, 6, 7, 8)\n"
     ]
    }
   ],
   "source": [
    "a = (1, 2, 3, 4, 5)\n",
    "b = (1, 2, 6, 7, 8)\n",
    "\n",
    "#Первый способ\n",
    "def notin(iterable):\n",
    "    return lambda el: el not in iterable\n",
    "print filter(notin(b), a) + filter(notin(a), b)\n",
    "\n",
    "#Второй способ\n",
    "print tuple(set(a) ^ set(b))"
   ]
  },
  {
   "cell_type": "markdown",
   "metadata": {},
   "source": [
    "7) Почему если в цикле меняется список, то используется for x in lst[:], что означает [:]?\n",
    "[:] означает взятие среза. Возвращается копия списка, так как при изменении списка в процессе итерирования по нему могут происходить ошибки. \n",
    "Общий вид [A:B:C]. A - индекс элемента, с которого начнётся срез (включительно). B - индекс элемента на котором закончится срез (невключительно). C - шаг, с которым выбираются элементы последовательности. A,B,C могут быть отрицательными, тогда отсчёт индексов идёт с конца, а при отрицательном шаге будут выбираться элементы в обратном порядке. Ни один из параметров не является обязательным. При опускании параметра A считается, что он равен 0; при опускании параметра B считается, что он равен len(lst); при опускании C считается, что он равен 1."
   ]
  },
  {
   "cell_type": "markdown",
   "metadata": {},
   "source": [
    "8) Есть два списка одинаковой длины, в одном ключи, в другом значения. Составить словарь."
   ]
  },
  {
   "cell_type": "code",
   "execution_count": 22,
   "metadata": {
    "collapsed": false
   },
   "outputs": [
    {
     "name": "stdout",
     "output_type": "stream",
     "text": [
      "{1: 'a', 2: 'b', 3: 'c', 4: 'd', 5: 'e'}\n",
      "{1: 'a', 2: 'b', 3: 'c', 4: 'd', 5: 'e'}\n"
     ]
    }
   ],
   "source": [
    "keylist = [1, 2, 3, 4, 5]\n",
    "valuelist = [\"a\", \"b\", \"c\", \"d\", \"e\"]\n",
    "\n",
    "#Первый способ\n",
    "print {key: value for key, value in zip(keylist, valuelist)}\n",
    "\n",
    "#Второй способ\n",
    "print dict(zip(keylist, valuelist))"
   ]
  },
  {
   "cell_type": "markdown",
   "metadata": {},
   "source": [
    "9) Есть два списка разной длины, в одном ключи, в другом значения. Составить словарь. Для ключей, для которых нет значений использовать None в качестве значения. Значения, для которых нет ключей игнорировать."
   ]
  },
  {
   "cell_type": "code",
   "execution_count": 25,
   "metadata": {
    "collapsed": false
   },
   "outputs": [
    {
     "name": "stdout",
     "output_type": "stream",
     "text": [
      "{1: 'a', 2: 'b', 3: 'c', 4: None, 5: None}\n",
      "{1: 'a', 2: 'b', 3: 'c'}\n"
     ]
    }
   ],
   "source": [
    "def makedict(keylist, valuelist):\n",
    "    return dict(map(None, keylist, valuelist) if (len(keylist) > len(valuelist)) else zip(keylist, valuelist))\n",
    "\n",
    "print makedict([1, 2, 3, 4, 5], [\"a\", \"b\", \"c\"])\n",
    "print makedict([1, 2, 3], [\"a\", \"b\", \"c\", \"d\", \"e\"])"
   ]
  },
  {
   "cell_type": "markdown",
   "metadata": {},
   "source": [
    "10) Есть словарь. Инвертировать его. Т.е. пары ключ: значение поменять местами — значение: ключ."
   ]
  },
  {
   "cell_type": "code",
   "execution_count": 29,
   "metadata": {
    "collapsed": false
   },
   "outputs": [
    {
     "name": "stdout",
     "output_type": "stream",
     "text": [
      "Исходный словарь: {0: 10, 1: 12, 2: 14, 3: 16, 4: 18, 5: 20, 6: 22, 7: 24, 8: 26, 9: 28}\n",
      "Инвертированный словарь: {10: 0, 12: 1, 14: 2, 16: 3, 18: 4, 20: 5, 22: 6, 24: 7, 26: 8, 28: 9}\n"
     ]
    }
   ],
   "source": [
    "dictionary = dict(enumerate(range(10, 30, 2)))\n",
    "print \"Исходный словарь: %s\" % dictionary\n",
    "print \"Инвертированный словарь: %s\" % {value:key for key, value in dictionary.iteritems()}"
   ]
  },
  {
   "cell_type": "markdown",
   "metadata": {},
   "source": [
    "11) Есть строка в юникоде, получить 8-битную строку в кодировке utf-8 и cp1251"
   ]
  },
  {
   "cell_type": "code",
   "execution_count": 1,
   "metadata": {
    "collapsed": false
   },
   "outputs": [],
   "source": [
    "unistring = u\"Unicode-строка\"\n",
    "utf8string = unistring.encode(\"utf-8\")\n",
    "cp1251strig = unistring.encode(\"cp1251\")"
   ]
  },
  {
   "cell_type": "markdown",
   "metadata": {},
   "source": [
    "12) Есть строка в кодировке cp1251, получить юникодную строку"
   ]
  },
  {
   "cell_type": "code",
   "execution_count": 33,
   "metadata": {
    "collapsed": false
   },
   "outputs": [
    {
     "name": "stdout",
     "output_type": "stream",
     "text": [
      "Строка\n"
     ]
    }
   ],
   "source": [
    "cpstring = u\"Строка\".encode(\"cp1251\")\n",
    "print cpstring.decode(\"cp1251\")"
   ]
  },
  {
   "cell_type": "markdown",
   "metadata": {},
   "source": [
    "##Теоретические вопросы:"
   ]
  },
  {
   "cell_type": "markdown",
   "metadata": {},
   "source": [
    "1) Дать определение системы типов в Python.\n",
    "В Python динамическая типизация. Это означает, что тип переменной не фиксируется, а переменная может принимать значения разных типов данных в момент выполнения программы. "
   ]
  },
  {
   "cell_type": "markdown",
   "metadata": {},
   "source": [
    "2) Перечислить поддерживаемые парадигмы программирования.\n",
    "Python поддерживает структурное, объектно-ориентированное, функциональное, императивное, аспектно-ориентированное программирование."
   ]
  },
  {
   "cell_type": "markdown",
   "metadata": {},
   "source": [
    "3) Перечислить основные типы данных.\n",
    "int, long, float, complex, str, unicode, bytearray, tuple, list, dict, set"
   ]
  },
  {
   "cell_type": "markdown",
   "metadata": {},
   "source": [
    "4) Перечислить реализации языка Python.\n",
    "CPython — эталонная реализация на C.\n",
    "CLPython — реализация на Common Lisp.\n",
    "IronPython — реализация на C#\n",
    "Jython — реализация на Java\n",
    "PyPy — реализация на Python"
   ]
  },
  {
   "cell_type": "markdown",
   "metadata": {},
   "source": [
    "5) Как происходит исполнение кода Python?\n",
    "Инструкции на языке Python компилируются в платформонезависимый байт-код, который передаётся на исполнение виртуальной машине."
   ]
  }
 ],
 "metadata": {
  "kernelspec": {
   "display_name": "Python 2",
   "language": "python",
   "name": "python2"
  },
  "language_info": {
   "codemirror_mode": {
    "name": "ipython",
    "version": 2
   },
   "file_extension": ".py",
   "mimetype": "text/x-python",
   "name": "python",
   "nbconvert_exporter": "python",
   "pygments_lexer": "ipython2",
   "version": "2.7.10"
  }
 },
 "nbformat": 4,
 "nbformat_minor": 0
}
