{
 "cells": [
  {
   "cell_type": "markdown",
   "metadata": {},
   "source": [
    "# 1.Как получить список всех атрибутов объекта"
   ]
  },
  {
   "cell_type": "markdown",
   "metadata": {},
   "source": [
    "Объект есть любая сущность в python (функция, число, строка… словом, всё).dir возвращает список атрибутов и методов произвольного объекта."
   ]
  },
  {
   "cell_type": "code",
   "execution_count": null,
   "metadata": {
    "collapsed": true
   },
   "outputs": [],
   "source": [
    "print dir(object)"
   ]
  },
  {
   "cell_type": "markdown",
   "metadata": {},
   "source": [
    "# 2.Как получить список всех публичных атрибутов объекта"
   ]
  },
  {
   "cell_type": "markdown",
   "metadata": {},
   "source": [
    "В Python для обозначения защищенные атрибутов используют \"_\", для приватных -\n"
   ]
  },
  {
   "cell_type": "code",
   "execution_count": null,
   "metadata": {
    "collapsed": true
   },
   "outputs": [],
   "source": [
    "print [attributes for attributes in dir(objoct) if not attributes.startswith(\"_\")]"
   ]
  },
  {
   "cell_type": "markdown",
   "metadata": {},
   "source": []
  },
  {
   "cell_type": "markdown",
   "metadata": {},
   "source": [
    "# 3.Как получить список методов объекта"
   ]
  },
  {
   "cell_type": "markdown",
   "metadata": {},
   "source": []
  },
  {
   "cell_type": "code",
   "execution_count": 1,
   "metadata": {
    "collapsed": false
   },
   "outputs": [
    {
     "name": "stdout",
     "output_type": "stream",
     "text": [
      "['__class__', '__delattr__', '__format__', '__getattribute__', '__hash__', '__init__', '__new__', '__reduce__', '__reduce_ex__', '__repr__', '__setattr__', '__sizeof__', '__str__', '__subclasshook__']\n"
     ]
    }
   ],
   "source": [
    "print [methods for methods in dir(object) if callable(getattr(object,methods))]"
   ]
  },
  {
   "cell_type": "code",
   "execution_count": null,
   "metadata": {
    "collapsed": true
   },
   "outputs": [],
   "source": []
  },
  {
   "cell_type": "markdown",
   "metadata": {},
   "source": [
    "# 4.В какой \"магической\" переменной хранится содержимое help"
   ]
  },
  {
   "cell_type": "markdown",
   "metadata": {},
   "source": [
    "В _doc_"
   ]
  },
  {
   "cell_type": "code",
   "execution_count": null,
   "metadata": {
    "collapsed": true
   },
   "outputs": [],
   "source": [
    "print string.__doc_"
   ]
  },
  {
   "cell_type": "markdown",
   "metadata": {},
   "source": [
    "# 5.Есть два кортежа, получить третий как конкатенацию первых двух"
   ]
  },
  {
   "cell_type": "markdown",
   "metadata": {},
   "source": [
    "Кортеж- это неизменяемый список.Элементы перечисляются в ()."
   ]
  },
  {
   "cell_type": "code",
   "execution_count": 1,
   "metadata": {
    "collapsed": false
   },
   "outputs": [
    {
     "name": "stdout",
     "output_type": "stream",
     "text": [
      "(1, 2, 3, 4)\n"
     ]
    }
   ],
   "source": [
    "a = (1,2)\n",
    "b = (3,4)\n",
    "print a + b"
   ]
  },
  {
   "cell_type": "markdown",
   "metadata": {},
   "source": [
    "# 6.Есть два кортежа, получить третий как объединение уникальных элементов первых двух кортежей"
   ]
  },
  {
   "cell_type": "markdown",
   "metadata": {},
   "source": [
    "set-мн-во,в котором отстутсвуют повторяющиеся элементы.\n",
    "А tuple - собственно кортеж;"
   ]
  },
  {
   "cell_type": "code",
   "execution_count": 14,
   "metadata": {
    "collapsed": false
   },
   "outputs": [
    {
     "name": "stdout",
     "output_type": "stream",
     "text": [
      "(1, 2, 3, 4, 5)\n"
     ]
    }
   ],
   "source": [
    "a = (1,2,3,5)\n",
    "b = (3,4)\n",
    "print tuple(set(a + b))"
   ]
  },
  {
   "cell_type": "markdown",
   "metadata": {},
   "source": [
    "# 7.Почему если в цикле меняется список, то используется for x in lst[:], что означает [:] ?"
   ]
  },
  {
   "cell_type": "markdown",
   "metadata": {},
   "source": [
    "[:]-это срезы.list[start:stop:step],получается список от start до stop-1(если не написан step,то step=1,по умолчаню). list[0:3] -взять 3 элемента списка,начиная с нулевого, срезу берет элементы с 0 по 3,исключая элемент 3.\n"
   ]
  },
  {
   "cell_type": "markdown",
   "metadata": {},
   "source": [
    "# 8.Есть два списка одинаковой длины, в одном ключи, в другом значения. Составить словарь."
   ]
  },
  {
   "cell_type": "code",
   "execution_count": null,
   "metadata": {
    "collapsed": true
   },
   "outputs": [],
   "source": [
    "key= ['a','b']\n",
    "val= [1,3]\n",
    "for i in range(len(key)):\n",
    "    diction[key[i]]=val[i]\n",
    "print diction"
   ]
  },
  {
   "cell_type": "markdown",
   "metadata": {},
   "source": [
    "range - создает список из len(key) значений"
   ]
  },
  {
   "cell_type": "markdown",
   "metadata": {},
   "source": [
    "# 9.Есть два списка разной длины, в одном ключи, в другом значения. Составить словарь.Для ключей ,для которых нет значений использовать None  в качестве значения. Значения,для которых нет ключей игнорировать."
   ]
  },
  {
   "cell_type": "code",
   "execution_count": 5,
   "metadata": {
    "collapsed": false
   },
   "outputs": [
    {
     "name": "stdout",
     "output_type": "stream",
     "text": [
      "{'a': 1, 'c': 3, 'b': 2, 'd': None}\n"
     ]
    }
   ],
   "source": [
    "listv=['a','b','c','d']\n",
    "listk=[1,2,3]\n",
    "dict={}\n",
    "if len(listv)>= len(listk):\n",
    "    for i in range(len(listk)):\n",
    "        dict[listv[i]]=listk[i]\n",
    "    for i in range(len(listk),len(listv)):\n",
    "        dict[listv[i]]=None\n",
    "else:\n",
    "    for i in range(len(listv)):\n",
    "        dict[listv[i]]=listk[i]\n",
    "print dict"
   ]
  },
  {
   "cell_type": "markdown",
   "metadata": {},
   "source": [
    "# 10.Есть словарь. Инвертировать его. Т.е. пары ключ: значение поменять местами — значение: ключ."
   ]
  },
  {
   "cell_type": "code",
   "execution_count": 3,
   "metadata": {
    "collapsed": false
   },
   "outputs": [
    {
     "name": "stdout",
     "output_type": "stream",
     "text": [
      "{1: 'a', 2: 'b'}\n"
     ]
    }
   ],
   "source": [
    "dict={'a':1,'b':2}\n",
    "dict1=dict.keys()\n",
    "dict2=dict.values()\n",
    "dict.clear()\n",
    "for i in range(len(dict1)):\n",
    "    dict[dict2[i]]=dict1[i]\n",
    "print dict"
   ]
  },
  {
   "cell_type": "markdown",
   "metadata": {},
   "source": [
    "# 11.Есть строка в юникоде, получить 8-битную строку в кодировке utf-8 и cp1251"
   ]
  },
  {
   "cell_type": "markdown",
   "metadata": {},
   "source": [
    "Объявим строку содержащую юникод(Для задания unicode-строки в виде константы используется префикс u) и преобразуем ее\n"
   ]
  },
  {
   "cell_type": "code",
   "execution_count": null,
   "metadata": {
    "collapsed": true
   },
   "outputs": [],
   "source": [
    "str = u\"string\"\n",
    "print str.encode('utf-8')\n",
    "print str.encode('cp1251')"
   ]
  },
  {
   "cell_type": "markdown",
   "metadata": {},
   "source": [
    "# 12.Есть строка в кодировке cp1251, получить юникодную строку"
   ]
  },
  {
   "cell_type": "code",
   "execution_count": null,
   "metadata": {
    "collapsed": true
   },
   "outputs": [],
   "source": [
    "str = \"string\"\n",
    "print str.decode('cp1251')"
   ]
  },
  {
   "cell_type": "markdown",
   "metadata": {
    "collapsed": true
   },
   "source": [
    "Дать определение систем типов в Питоне"
   ]
  },
  {
   "cell_type": "markdown",
   "metadata": {},
   "source": [
    "Динамическая типизация"
   ]
  },
  {
   "cell_type": "markdown",
   "metadata": {},
   "source": [
    "Перечислить поддерживаемые парадигмы прогр-я"
   ]
  },
  {
   "cell_type": "markdown",
   "metadata": {},
   "source": [
    "Императивный(процедурный,структурный,модульный)\n",
    "ООП\n",
    "Функциональное программирование"
   ]
  },
  {
   "cell_type": "markdown",
   "metadata": {},
   "source": [
    "Перечислить основные типы данных"
   ]
  },
  {
   "cell_type": "markdown",
   "metadata": {},
   "source": [
    "Логический тип(true or false)\n",
    "Числа\n",
    "Строки\n",
    "Байты и массивы байтов(файл изображение в jpeg)\n",
    "Списки\n",
    "КОртежи\n",
    "Множества\n",
    "Словари"
   ]
  },
  {
   "cell_type": "markdown",
   "metadata": {},
   "source": [
    "Перечислить реализации языка Питон"
   ]
  },
  {
   "cell_type": "markdown",
   "metadata": {},
   "source": [
    "PyPy\n",
    "Cpython (python)\n",
    "Jython (java)\n",
    "QPython(для андроид)\n",
    "Brython(реализация на js)"
   ]
  },
  {
   "cell_type": "markdown",
   "metadata": {},
   "source": [
    "Как происходит исполнение кода"
   ]
  },
  {
   "cell_type": "markdown",
   "metadata": {},
   "source": [
    "Cpython сщдержит виртуальную машину,которая исполняет байт-код. В процессе выполнения,все что исполнено исполняется именно как байт-код в виртуальной машине python."
   ]
  }
 ],
 "metadata": {
  "kernelspec": {
   "display_name": "Python 2",
   "language": "python",
   "name": "python2"
  },
  "language_info": {
   "codemirror_mode": {
    "name": "ipython",
    "version": 2
   },
   "file_extension": ".py",
   "mimetype": "text/x-python",
   "name": "python",
   "nbconvert_exporter": "python",
   "pygments_lexer": "ipython2",
   "version": "2.7.9"
  }
 },
 "nbformat": 4,
 "nbformat_minor": 0
}
